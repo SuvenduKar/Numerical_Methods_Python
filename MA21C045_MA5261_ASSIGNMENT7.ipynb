{
  "nbformat": 4,
  "nbformat_minor": 0,
  "metadata": {
    "colab": {
      "provenance": []
    },
    "kernelspec": {
      "name": "python3",
      "display_name": "Python 3"
    },
    "language_info": {
      "name": "python"
    }
  },
  "cells": [
    {
      "cell_type": "code",
      "source": [
        "#EXERCISE 18\n",
        "n=int(input('Enter the number of persons you want to store data about: '))\n",
        "File = []\n",
        "fIle=[]\n",
        "fiLe=[]\n",
        "\n",
        "data=[]\n",
        "for i in range (0,n):\n",
        " class Person:\n",
        "\n",
        "   def __init__(self,name,designation,current):\n",
        "     self.name=name\n",
        "\n",
        "\n",
        "     self.designation= designation\n",
        "\n",
        "\n",
        "     self.current=current\n",
        "\n",
        " n=input(f\"Enter your {i+1}th person's name: \")\n",
        " d=input(\"Enter his or her designation: \")\n",
        " c=input(\"Enter his/her current course or working section name: \")\n",
        " p=Person(n,d,c)\n",
        " File.append(p.name)\n",
        " fIle.append(p.designation)\n",
        " fiLe.append(p.current)\n",
        "\n",
        "data=zip(File,fIle,fiLe)\n",
        "data_list=list(data)\n",
        "print(data_list)\n"
      ],
      "metadata": {
        "id": "bYAMNyxmkVWC",
        "colab": {
          "base_uri": "https://localhost:8080/"
        },
        "outputId": "b47aad9d-ff81-440d-b873-4af594c281ff"
      },
      "execution_count": null,
      "outputs": [
        {
          "output_type": "stream",
          "name": "stdout",
          "text": [
            "Enter the number of persons you want to store data about: 3\n",
            "Enter your 1th person's name: Ram\n",
            "Enter his or her designation: Student\n",
            "Enter his/her current course or working section name: M.Sc\n",
            "Enter your 2th person's name: Shyam\n",
            "Enter his or her designation: Faculty\n",
            "Enter his/her current course or working section name: MA\n",
            "Enter your 3th person's name: Jadu\n",
            "Enter his or her designation: Staff\n",
            "Enter his/her current course or working section name: Academic\n",
            "[('Ram', 'Student', 'M.Sc'), ('Shyam', 'Faculty', 'MA'), ('Jadu', 'Staff', 'Academic')]\n"
          ]
        }
      ]
    },
    {
      "cell_type": "code",
      "execution_count": null,
      "metadata": {
        "colab": {
          "base_uri": "https://localhost:8080/"
        },
        "id": "0OUa_SwB7OsD",
        "outputId": "eddf78af-288f-49f7-a360-6cfa63b3f1c3"
      },
      "outputs": [
        {
          "output_type": "stream",
          "name": "stdout",
          "text": [
            "Printing the  first matrix A : \n",
            "[1, 0, 0]\n",
            "[0, 1, 0]\n",
            "[0, 0, 1]\n",
            "Printing the  second matrix B : \n",
            "[2, 0, 0]\n",
            "[0, 2, 0]\n",
            "[0, 0, 3]\n",
            "Printing the resultant matrix after addition(WE HAD ADDED SECOND MATRIX WITH ITSELF) : \n",
            "[4, 0, 0]\n",
            "[0, 4, 0]\n",
            "[0, 0, 6]\n",
            "Printing the result matrix (got after summing second matrix with itself) after transpose : \n",
            "[4, 0, 0]\n",
            "[0, 4, 0]\n",
            "[0, 0, 6]\n",
            "Printing the matrix after multiplication(we will multiply second matrix with previous resultant matrix got after transposing) : \n",
            "[8, 0, 0]\n",
            "[0, 8, 0]\n",
            "[0, 0, 18]\n",
            "Trace of SECOND matrix is: \n"
          ]
        },
        {
          "output_type": "execute_result",
          "data": {
            "text/plain": [
              "7"
            ]
          },
          "metadata": {},
          "execution_count": 6
        }
      ],
      "source": [
        "\n",
        "#Exercise 19\n",
        "class Matrix:\n",
        "  def __init__(self, i, j):\n",
        "    self.matrix = self.get_matrix(i, j)\n",
        "\n",
        "  def get_dimensions(self) :\n",
        "    return (len(self.matrix), len(self.matrix[0]))\n",
        "\n",
        "  def get_matrix(self, k, l):\n",
        "    num = 1\n",
        "    matrix = [[0 for j in range(l)] for i in range(k)]\n",
        "    return matrix\n",
        "\n",
        "  def getMatrix(self):\n",
        "    return self.matrix\n",
        "\n",
        "  def setMatrix(self, newMatrix):\n",
        "    self.matrix = newMatrix\n",
        "\n",
        "  def getElement(self, m, n):\n",
        "    return self.matrix[m-1][n-1]\n",
        "\n",
        "  def setElement(self, i, j, element):\n",
        "    self.matrix[i-1][j-1] = element\n",
        "  def printMatrix(self) :\n",
        "    rowSize, colSize = self.get_dimensions()\n",
        "    for i in range(rowSize) :\n",
        "      print(self.matrix[i])\n",
        "\n",
        "  def transpose(self):\n",
        "    rowSize, colSize = self.get_dimensions()\n",
        "    transposedMatrix = [[0 for _ in range(rowSize)] for _ in range(colSize)]\n",
        "    for i in range(rowSize) :\n",
        "      for j in range(colSize) :\n",
        "        transposedMatrix[j][i] = self.matrix[i][j]\n",
        "    self.setMatrix(transposedMatrix)\n",
        "\n",
        "  def add(self, rightMatrix) :\n",
        "    rowSize, colSize = self.get_dimensions()\n",
        "    additionMatrix = [[0 for _ in range(colSize)] for _ in range(rowSize)]\n",
        "    for i in range(rowSize) :\n",
        "      for j in range(colSize) :\n",
        "        additionMatrix[i][j] = self.matrix[i][j] + rightMatrix[i][j]\n",
        "    self.matrix = additionMatrix\n",
        "  def multiplyMatrices(self, rightMatrix) :\n",
        "    leftMatrixRowSize = len(self.matrix)\n",
        "    leftMatrixColSize = len(self.matrix[0])\n",
        "    rightMatrixRowSize = len(rightMatrix)\n",
        "    rightMatrixColSize = len(rightMatrix[0])\n",
        "    if leftMatrixColSize == rightMatrixRowSize :\n",
        "      productMat = [[0 for _ in range(rightMatrixColSize)] for _ in range(leftMatrixRowSize)]\n",
        "      for i in range(leftMatrixRowSize) :\n",
        "        for j in range(rightMatrixColSize) :\n",
        "          tmp = 0\n",
        "          for k in range(leftMatrixColSize) :\n",
        "            tmp = tmp + self.matrix[i][k] * rightMatrix[k][j]\n",
        "          productMat[i][j] = tmp\n",
        "      self.matrix = productMat\n",
        "    else :\n",
        "      return 0\n",
        "def trace(MAT):\n",
        "  r=len(MAT)\n",
        "  trace=0\n",
        "  for i in range(r):\n",
        "    trace=trace+MAT[i][i]\n",
        "  return trace\n",
        "\n",
        "# Testing\n",
        "\n",
        "A = [[1,0,0], [0,1,0], [0,0,1]]\n",
        "B= [[2,0,0], [0,2,0], [0,0,3]]\n",
        "\n",
        "matA.setMatrix(A)\n",
        "print('Printing the  first matrix A : ')\n",
        "matA.printMatrix()\n",
        "matA.setMatrix(B)\n",
        "print('Printing the  second matrix B : ')\n",
        "matA.printMatrix()\n",
        "matA.add(B)\n",
        "print('Printing the resultant matrix after addition(WE HAD ADDED SECOND MATRIX WITH ITSELF) : ')\n",
        "matA.printMatrix()\n",
        "matA.transpose()\n",
        "print('Printing the result matrix (got after summing second matrix with itself) after transpose : ')\n",
        "matA.printMatrix()\n",
        "matA.multiplyMatrices(B)\n",
        "print('Printing the matrix after multiplication(we will multiply second matrix with previous resultant matrix got after transposing) : ')\n",
        "matA.printMatrix()\n",
        "print('Trace of SECOND matrix is: ')\n",
        "trace(B)"
      ]
    }
  ]
}