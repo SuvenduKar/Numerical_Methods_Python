{
  "nbformat": 4,
  "nbformat_minor": 0,
  "metadata": {
    "colab": {
      "provenance": []
    },
    "kernelspec": {
      "name": "python3",
      "display_name": "Python 3"
    },
    "language_info": {
      "name": "python"
    }
  },
  "cells": [
    {
      "cell_type": "code",
      "execution_count": null,
      "metadata": {
        "colab": {
          "base_uri": "https://localhost:8080/"
        },
        "id": "D41wtxE5PGmA",
        "outputId": "12c23bfc-54fc-43f7-c7da-4ccfb3cc4171"
      },
      "outputs": [
        {
          "output_type": "stream",
          "name": "stdout",
          "text": [
            "what is the radius(in unit) of the circle? 5\n",
            "The area of the circle is:78.57142857142857 sq.unit\n"
          ]
        }
      ],
      "source": [
        "Radius=input('what is the radius(in unit) of the circle? ')\n",
        "Radius=int(Radius)\n",
        "pi=float(22/7)\n",
        "Area=pi*pow(Radius,2)\n",
        "msg=f'The area of the circle is:{Area} sq.unit'\n",
        "print(msg)"
      ]
    },
    {
      "cell_type": "code",
      "source": [
        "FirstName=input('What is your first name? ')\n",
        "L_Name=input('What is your last name? ')\n",
        "msg=f'{L_Name} {FirstName}'\n",
        "print(msg)\n",
        ""
      ],
      "metadata": {
        "id": "AVc2AGEQOikR",
        "colab": {
          "base_uri": "https://localhost:8080/"
        },
        "outputId": "92f62b9d-8820-4a59-ff81-f1123bcd4aa8"
      },
      "execution_count": null,
      "outputs": [
        {
          "output_type": "stream",
          "name": "stdout",
          "text": [
            "What is your first name? Sathya\n",
            "What is your last name? Kumar\n",
            "Kumar Sathya\n"
          ]
        }
      ]
    },
    {
      "cell_type": "code",
      "source": [
        "SeqNum=input('Provide a finite sequence of comma-separated numbers: ').split(',')\n",
        "List=f'List:{SeqNum}'\n",
        "print(List)\n",
        "print('Tuple:' ,tuple(SeqNum))\n"
      ],
      "metadata": {
        "id": "rCxINAtPPn5v",
        "colab": {
          "base_uri": "https://localhost:8080/"
        },
        "outputId": "0b5cb9c2-1c9c-4b99-a7b0-cf2426ce5fd0"
      },
      "execution_count": null,
      "outputs": [
        {
          "output_type": "stream",
          "name": "stdout",
          "text": [
            "Provide a finite sequence of comma-separated numbers: 2,21,22,45,32\n",
            "List:['2', '21', '22', '45', '32']\n",
            "Tuple: ('2', '21', '22', '45', '32')\n"
          ]
        }
      ]
    },
    {
      "cell_type": "code",
      "source": [
        "Filename1= input('Enter first filename: ')\n",
        "Filename2= input('Enter second filename: ')\n",
        "f1=Filename1.split('.')\n",
        "f2=Filename2.split('.')\n",
        "print('The extension of the first filename is: '+f1[-1])\n",
        "print('The extension of the second filename is: '+f2[-1])"
      ],
      "metadata": {
        "colab": {
          "base_uri": "https://localhost:8080/"
        },
        "id": "oQdesDw4JrFM",
        "outputId": "7b47bf96-c075-4948-f235-59e4b2311556"
      },
      "execution_count": null,
      "outputs": [
        {
          "output_type": "stream",
          "name": "stdout",
          "text": [
            "Enter first filename: vetri.m\n",
            "Enter second filename: MA5261.exe\n",
            "The extension of the first filename is: m\n",
            "The extension of the second filename is: exe\n"
          ]
        }
      ]
    },
    {
      "cell_type": "code",
      "source": [
        "n=float(input('Enter the value of n: '))\n",
        "x=float(input('Enter the value of x: '))\n",
        "y=float(input('Enter the value of y: '))\n",
        "print('Output1(The value of (x+y)^n)=',pow(x+y,n))\n",
        "print('output2(The value of (2x+3y)^n)=',pow(2*x+3*y,n))"
      ],
      "metadata": {
        "colab": {
          "base_uri": "https://localhost:8080/"
        },
        "id": "oSFw0pMoMMTi",
        "outputId": "d9f92807-f938-4ea4-f834-f162b6e8d362"
      },
      "execution_count": null,
      "outputs": [
        {
          "output_type": "stream",
          "name": "stdout",
          "text": [
            "Enter the value of n: 2\n",
            "Enter the value of x: 3\n",
            "Enter the value of y: 2\n",
            "Output1(The value of (x+y)^n)= 25.0\n",
            "output2(The value of (2x+3y)^n)= 144.0\n"
          ]
        }
      ]
    },
    {
      "cell_type": "code",
      "source": [
        "import math\n",
        "theta=float(input('Enter the value of theta: '))\n",
        "a=pow(math.sin(theta),2)+pow(math.cos(theta),2)\n",
        "b=math.sin(theta)/theta\n",
        "print('sin(theta)^2+cos(theta)^2=',a)\n",
        "print('sin(theta)/theta=',b)"
      ],
      "metadata": {
        "colab": {
          "base_uri": "https://localhost:8080/"
        },
        "id": "nhKKMsvvOErS",
        "outputId": "bb263e44-05c8-42b6-9ce2-8aa41ea987b8"
      },
      "execution_count": null,
      "outputs": [
        {
          "output_type": "stream",
          "name": "stdout",
          "text": [
            "Enter the value of theta: 0.001\n",
            "sin(theta)^2+cos(theta)^2= 1.0\n",
            "sin(theta)/theta= 0.9999998333333416\n"
          ]
        }
      ]
    }
  ]
}