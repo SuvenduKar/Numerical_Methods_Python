{
  "nbformat": 4,
  "nbformat_minor": 0,
  "metadata": {
    "colab": {
      "provenance": []
    },
    "kernelspec": {
      "name": "python3",
      "display_name": "Python 3"
    },
    "language_info": {
      "name": "python"
    }
  },
  "cells": [
    {
      "cell_type": "code",
      "source": [
        "fruits=['Apple','Orange','Grapes','Banana','Papaya']\n",
        "print('First Item:',fruits[0],'\\nLast Item: ',fruits[-1])\n",
        "a=len(fruits)\n",
        "print('The length of above list(named\"fruits\")is: ',a)\n",
        "fruits.append('kiwi')\n",
        "fruits.append('lemon')\n",
        "print('Now the updated Fruit list is: ',fruits)\n",
        "fruits.remove('Grapes')\n",
        "print('Fruits in ascending order: ',sorted(fruits,key=lambda fruit:fruit.lower()))\n",
        "print('Fruits in descending order: ',sorted(fruits,key=lambda fruit:fruit.lower(),reverse=True))\n",
        "\n"
      ],
      "metadata": {
        "id": "GXlNqfzrL7xP",
        "colab": {
          "base_uri": "https://localhost:8080/"
        },
        "outputId": "8497d548-a411-4daf-c15e-7fd6f909017c"
      },
      "execution_count": null,
      "outputs": [
        {
          "output_type": "stream",
          "name": "stdout",
          "text": [
            "First Item: Apple \n",
            "Last Item:  Papaya\n",
            "The length of above list(named\"fruits\")is:  5\n",
            "Now the updated Fruit list is:  ['Apple', 'Orange', 'Grapes', 'Banana', 'Papaya', 'kiwi', 'lemon']\n",
            "Fruits in ascending order:  ['Apple', 'Banana', 'kiwi', 'lemon', 'Orange', 'Papaya']\n",
            "Fruits in descending order:  ['Papaya', 'Orange', 'lemon', 'kiwi', 'Banana', 'Apple']\n"
          ]
        }
      ]
    },
    {
      "cell_type": "code",
      "source": [
        "hollywood=set(['Avatar','Avengers','Starwars','Gravity','Titanic','JurassicPark'])\n",
        "bollywood=set(['PK','3idiots','Dhoom','Sholay','Dil Se'])\n",
        "h=len(hollywood)\n",
        "b=len(bollywood)\n",
        "print('Number of Movies in the list of hollywood is(that is length of the set hollywood is): ',h,'\\nNumer of Movies in the list of bollywood is(The length of the set bollywood): ',b)\n",
        "bollywood=bollywood.union(set(['83','The Kashmir Files','Atrangi Re','Samshera','RRR']))\n",
        "bollywood.add('slum dog millionaire')\n",
        "hollywood.add('slum dog millionaire')\n",
        "bollywood.add('A Common Man')\n",
        "hollywood.add('A Common Man')\n",
        "IntersectionHollywoodBollywood=bollywood.intersection(hollywood)\n",
        "Union=hollywood.union(bollywood)\n",
        "bollywood_hollywood=bollywood-hollywood\n",
        "hollywood_bollywood=hollywood-bollywood\n",
        "SymmetricDifference=bollywood_hollywood.union(hollywood_bollywood)\n",
        "print('Union of Bollywood and Hollywood movies is:',Union)\n",
        "print('Intersection of Hollywood and Bollywood movies is: ',IntersectionHollywoodBollywood)\n",
        "print('hollywood-bollywood: ',hollywood_bollywood)\n",
        "print('bollywood\\hollywood: ',bollywood_hollywood)\n",
        "print('Symmetric difference between hollywood and bollywood set: ',SymmetricDifference)\n"
      ],
      "metadata": {
        "colab": {
          "base_uri": "https://localhost:8080/"
        },
        "id": "buLckFJyWAFA",
        "outputId": "67b2fbc0-5144-4481-a111-b24b8ab5ed2d"
      },
      "execution_count": null,
      "outputs": [
        {
          "output_type": "stream",
          "name": "stdout",
          "text": [
            "Number of Movies in the list of hollywood is(that is length of the set hollywood is):  6 \n",
            "Numer of Movies in the list of bollywood is(The length of the set bollywood):  5\n",
            "Union of Bollywood and Hollywood movies is: {'Starwars', 'JurassicPark', 'Dhoom', 'Avatar', 'Samshera', 'A Common Man', 'Dil Se', 'The Kashmir Files', 'Atrangi Re', 'slum dog millionaire', 'RRR', 'Titanic', '83', 'Gravity', 'PK', 'Sholay', 'Avengers', '3idiots'}\n",
            "Intersection of Hollywood and Bollywood movies is:  {'slum dog millionaire', 'A Common Man'}\n",
            "hollywood-bollywood:  {'Starwars', 'Titanic', 'JurassicPark', 'Gravity', 'Avatar', 'Avengers'}\n",
            "bollywood\\hollywood:  {'RRR', '83', 'Dhoom', 'PK', 'Samshera', '3idiots', 'Sholay', 'Atrangi Re', 'Dil Se', 'The Kashmir Files'}\n",
            "Symmetric difference between hollywood and bollywood set:  {'Starwars', 'RRR', 'Titanic', '83', 'JurassicPark', 'Dhoom', 'Gravity', 'PK', 'Avatar', 'Samshera', '3idiots', 'Sholay', 'Atrangi Re', 'Dil Se', 'Avengers', 'The Kashmir Files'}\n"
          ]
        }
      ]
    },
    {
      "cell_type": "code",
      "source": [
        "fruits_price={'Apple':150,'Orange':80,'Grapes':60,'Banana':40,'Papaya':100}\n",
        "print('The length of the dictionary: ',len(fruits_price))\n",
        "print('List of Fruits available: ',list(fruits_price.keys()))\n",
        "for tmp in range (6):\n",
        "  FruitName=input('Enter additional fruit names'+str(tmp+1)+':')\n",
        "  FruitPrice=int(input('Enter corresponding Fruit price'+str(tmp+1)+':'))\n",
        "  fruits_price[FruitName]=FruitName\n",
        "print('Updated available Fruits::',list(fruits_price.keys()))"
      ],
      "metadata": {
        "colab": {
          "base_uri": "https://localhost:8080/"
        },
        "id": "5u5wrFEgr5U7",
        "outputId": "62835e28-4a40-4394-c3f0-c045e66bf02e"
      },
      "execution_count": null,
      "outputs": [
        {
          "output_type": "stream",
          "name": "stdout",
          "text": [
            "The length of the dictionary:  5\n",
            "List of Fruits available:  ['Apple', 'Orange', 'Grapes', 'Banana', 'Papaya']\n",
            "Enter additional fruit names1:Mango\n",
            "Enter corresponding Fruit price1:100\n",
            "Enter additional fruit names2:Pomegranate\n",
            "Enter corresponding Fruit price2:200\n",
            "Enter additional fruit names3:Peach\n",
            "Enter corresponding Fruit price3:100\n",
            "Enter additional fruit names4:Pineapple\n",
            "Enter corresponding Fruit price4:60\n",
            "Enter additional fruit names5:Cherry\n",
            "Enter corresponding Fruit price5:20\n",
            "Enter additional fruit names6:Apricot\n",
            "Enter corresponding Fruit price6:70\n",
            "Updated available Fruits:: ['Apple', 'Orange', 'Grapes', 'Banana', 'Papaya', 'Mango', 'Pomegranate', 'Peach', 'Pineapple', 'Cherry', 'Apricot']\n"
          ]
        }
      ]
    },
    {
      "cell_type": "markdown",
      "source": [],
      "metadata": {
        "id": "16sl1q-8OKAe"
      }
    }
  ]
}