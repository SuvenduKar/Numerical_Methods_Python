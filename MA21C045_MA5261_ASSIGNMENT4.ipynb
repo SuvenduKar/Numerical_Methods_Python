{
  "nbformat": 4,
  "nbformat_minor": 0,
  "metadata": {
    "colab": {
      "provenance": []
    },
    "kernelspec": {
      "name": "python3",
      "display_name": "Python 3"
    },
    "language_info": {
      "name": "python"
    }
  },
  "cells": [
    {
      "cell_type": "code",
      "execution_count": null,
      "metadata": {
        "colab": {
          "base_uri": "https://localhost:8080/"
        },
        "id": "EbJ2vQxouqt7",
        "outputId": "83a7fae1-b337-4ac0-cc05-f650df161cbb"
      },
      "outputs": [
        {
          "output_type": "stream",
          "name": "stdout",
          "text": [
            "Enter the value of n such that you want to get sum of first n natural numbers: 11\n",
            "66  is the sum of first 11 natural numbers.\n"
          ]
        }
      ],
      "source": [
        "#QUESTION 1\n",
        "#Calculate the sum of first n natural numbers.\n",
        "n=int(input('Enter the value of n such that you want to get sum of first n natural numbers: '))\n",
        "sum=0\n",
        "for i in range(1,n+1):\n",
        "  sum=sum+i\n",
        "print(sum,' is the sum of first {} natural numbers.'.format(n))"
      ]
    },
    {
      "cell_type": "code",
      "source": [
        "#QUESTION 2\n",
        "#Find all prime numbers between 1 to n.\n",
        "l=int(input('Enter the lower bound of the interval [l,m] in which you want to find all prime numbers(l,m are natural numbers): '))\n",
        "m=int(input('Enter the upper bound of the interval [l,m] in which you want to find all prime numbers(l,m are natural numbers): '))\n",
        "print('All prime numbers between ',l,'and ',m,'are:  ')\n",
        "for num in range(l,m):\n",
        "  if num>1:\n",
        "    for i in range (2,num):\n",
        "      if(num%i)==0:\n",
        "        break\n",
        "    else:\n",
        "      print(num)\n"
      ],
      "metadata": {
        "colab": {
          "base_uri": "https://localhost:8080/"
        },
        "id": "fBLbU66ewjgI",
        "outputId": "57fdc549-3c35-4cbd-c8c9-8103a7e02d4e"
      },
      "execution_count": null,
      "outputs": [
        {
          "output_type": "stream",
          "name": "stdout",
          "text": [
            "Enter the lower bound of the interval [l,m] in which you want to find all prime numbers(l,m are natural numbers): 1\n",
            "Enter the upper bound of the interval [l,m] in which you want to find all prime numbers(l,m are natural numbers): 14\n",
            "All prime numbers between  1 and  14 are:  \n",
            "2\n",
            "3\n",
            "5\n",
            "7\n",
            "11\n",
            "13\n"
          ]
        }
      ]
    },
    {
      "cell_type": "code",
      "source": [
        "#QUESTION 3\n",
        "#Get the number of voters (at least 6). Each voter should vote for one of the following choices.\n",
        "#1. Cup\n",
        "#2. Candle\n",
        "#3. Chalk\n",
        "#4. Pen\n",
        "#5. Pencil\n",
        "#Count the number of votes for each choice and then print.\n",
        "numvote=int(input('Enter the total number of voters: '))\n",
        "countvote=list(0 for v in range (numvote))\n",
        "for j in range(numvote):\n",
        "  yourchoice=int(input('Enter the serial number of your choice(i.e. if you want to vote for Candle ,then enter 2): '))\n",
        "  countvote[yourchoice] +=1\n",
        "print('No. of vote for Cup:: ',countvote[1])\n",
        "print('No. of vote for Candle:: ',countvote[2])\n",
        "print('No. of vote for Chalk:: ',countvote[3])\n",
        "print('No.of vote for Pen:: ',countvote[4])\n",
        "print('No. of vote for Pencil:: ',countvote[5])\n",
        "\n",
        "\n"
      ],
      "metadata": {
        "id": "4HVN4ItQ3FXK",
        "colab": {
          "base_uri": "https://localhost:8080/"
        },
        "outputId": "e868d322-60ba-446a-c3a1-5d25c456c221"
      },
      "execution_count": null,
      "outputs": [
        {
          "output_type": "stream",
          "name": "stdout",
          "text": [
            "Enter the total number of voters: 11\n",
            "Enter the serial number of your choice(i.e. if you want to vote for Candle ,then enter 2): 1\n",
            "Enter the serial number of your choice(i.e. if you want to vote for Candle ,then enter 2): 2\n",
            "Enter the serial number of your choice(i.e. if you want to vote for Candle ,then enter 2): 3\n",
            "Enter the serial number of your choice(i.e. if you want to vote for Candle ,then enter 2): 4\n",
            "Enter the serial number of your choice(i.e. if you want to vote for Candle ,then enter 2): 5\n",
            "Enter the serial number of your choice(i.e. if you want to vote for Candle ,then enter 2): 3\n",
            "Enter the serial number of your choice(i.e. if you want to vote for Candle ,then enter 2): 2\n",
            "Enter the serial number of your choice(i.e. if you want to vote for Candle ,then enter 2): 5\n",
            "Enter the serial number of your choice(i.e. if you want to vote for Candle ,then enter 2): 4\n",
            "Enter the serial number of your choice(i.e. if you want to vote for Candle ,then enter 2): 1\n",
            "Enter the serial number of your choice(i.e. if you want to vote for Candle ,then enter 2): 3\n",
            "No. of vote for Cup::  2\n",
            "No. of vote for Candle::  2\n",
            "No. of vote for Chalk::  3\n",
            "No.of vote for Pen::  2\n",
            "No. of vote for Pencil::  2\n"
          ]
        }
      ]
    },
    {
      "cell_type": "code",
      "source": [
        "#QUESTION 4\n",
        "#Calculate the sum of entries of an n × n matrix without their diagonal and anti-diagonal entries.\n",
        "n=int(input('Enter the order of matrix: '))\n",
        "mat=[]\n",
        "print('Please Enter The Entries of Your Matrix Row Wise: ')\n",
        "for i in range(n):\n",
        "  a=[]\n",
        "  for j in range (n):\n",
        "    a.append(int(input()))\n",
        "  mat.append(a)\n",
        "print('Your provided matrix is: ')\n",
        "for i in range(n):\n",
        "  for j in range (n):\n",
        "    print(mat[i][j],end=' ')\n",
        "  print()\n",
        "sum=0\n",
        "diagsum=0\n",
        "antidiagsum=0\n",
        "swdae=0\n",
        "for i in range(n):\n",
        "  diagsum=diagsum+mat[i][i]\n",
        "  antidiagsum =antidiagsum + mat[i][n-i-1]\n",
        "for i in range(n):\n",
        "  for j in range(n):\n",
        "    sum=sum+mat[i][j]\n",
        "if n%2==0:\n",
        "  swdae=sum-diagsum-antidiagsum\n",
        "elif n%2 !=0:\n",
        "  b=int((n-1)/2)\n",
        "  t=mat[b][b]\n",
        "  swdae=sum+t-diagsum-antidiagsum\n",
        "print('Sum of the matrix entries other than diagonal and antidiagonal entries is: ',swdae)\n",
        "print('Sum of the matrix entries other than diagonal entries is : ',sum-diagsum)\n",
        "print('Sum of the matrix entries other than antidiagonal entries is : ',sum-antidiagsum)\n"
      ],
      "metadata": {
        "colab": {
          "base_uri": "https://localhost:8080/"
        },
        "id": "KpT9Kdri-sJ6",
        "outputId": "457e74da-df32-4bc0-c16e-ea1eefbc3e5b"
      },
      "execution_count": null,
      "outputs": [
        {
          "output_type": "stream",
          "name": "stdout",
          "text": [
            "Enter the order of matrix: 3\n",
            "Please Enter The Entries of Your Matrix Row Wise: \n",
            "1\n",
            "2\n",
            "3\n",
            "2\n",
            "1\n",
            "3\n",
            "3\n",
            "2\n",
            "1\n",
            "Your provided matrix is: \n",
            "1 2 3 \n",
            "2 1 3 \n",
            "3 2 1 \n",
            "Sum of the matrix entries other than diagonal and antidiagonal entries is:  9\n",
            "Sum of the matrix entries other than diagonal entries is :  15\n",
            "Sum of the matrix entries other than antidiagonal entries is :  11\n"
          ]
        }
      ]
    },
    {
      "cell_type": "code",
      "source": [
        "#QUESTION 5\n",
        "#Calculate the sum of first n even natural numbers. Receive n as an input.\n",
        "n=int(input('Enter the value of n such that you want to find the sum of first n even natural numbers: '))\n",
        "evensum=0\n",
        "for  i in range(2*n+1):\n",
        "  if (i%2)==0:\n",
        "    evensum=evensum+i\n",
        "print(f'Sum of first {n} even natural numbers is {evensum}')"
      ],
      "metadata": {
        "id": "PIn9x6knQswD",
        "colab": {
          "base_uri": "https://localhost:8080/"
        },
        "outputId": "baa92b39-8dba-450e-c204-5299ec2f2910"
      },
      "execution_count": null,
      "outputs": [
        {
          "output_type": "stream",
          "name": "stdout",
          "text": [
            "Enter the value of n such that you want to find the sum of first n even natural numbers: 3\n",
            "Sum of first 3 even natural numbers is 12\n"
          ]
        }
      ]
    },
    {
      "cell_type": "code",
      "source": [
        "#QUESTION 6\n",
        "#Calculate the sum of first n natural numbers which are divisible by 7 but not divisible by 63.\n",
        "n=int(input('Enter the value of n to Calculate the sum of first n natural numbers which are divisible by 7 but not divisible by 63: '))\n",
        "nsum=0\n",
        "num=7\n",
        "t=1\n",
        "while t<=n:\n",
        "  if num%7==0 and num%63 !=0:\n",
        "    nsum+=num\n",
        "    t=t+1\n",
        "  num=num+1\n",
        "print(f' The sum of first {n} natural numbers which are divisible by 7 but not divisible by 63 is {nsum}.')"
      ],
      "metadata": {
        "colab": {
          "base_uri": "https://localhost:8080/"
        },
        "id": "N4nPUVyQMTNM",
        "outputId": "a7975f61-b315-41bc-f3a6-60f2930224a7"
      },
      "execution_count": null,
      "outputs": [
        {
          "output_type": "stream",
          "name": "stdout",
          "text": [
            "Enter the value of n to Calculate the sum of first n natural numbers which are divisible by 7 but not divisible by 63: 3\n",
            " The sum of first 3 natural numbers which are divisible by 7 but not divisible by 63 is 42.\n"
          ]
        }
      ]
    },
    {
      "cell_type": "code",
      "source": [
        "#QUESTION 7\n",
        "#Calculate the sum of fourth power of first n natural numbers.\n",
        "import math\n",
        "n=int(input('Enter the natural number n to calculate the sum of fourth power of first n natural numbers: '))\n",
        "psum=0\n",
        "for i in range(n+1):\n",
        "  psum=psum+pow(i,4)\n",
        "print(f'The sum of fourth power of first {n} natural number is {psum}')"
      ],
      "metadata": {
        "colab": {
          "base_uri": "https://localhost:8080/"
        },
        "id": "ldoDYqw7O9F_",
        "outputId": "f2585285-597e-440a-9852-40e810272a3a"
      },
      "execution_count": null,
      "outputs": [
        {
          "output_type": "stream",
          "name": "stdout",
          "text": [
            "Enter the natural number n to calculate the sum of fourth power of first n natural numbers: 5\n",
            "The sum of fourth power of first 5 natural number is 979\n"
          ]
        }
      ]
    },
    {
      "cell_type": "code",
      "source": [
        "#QUESTION 8\n",
        "#If the user enters a non-negative number, ask for a positive number.\n",
        "a = True\n",
        "while a:\n",
        "  n=float(input('Enter a number: '))\n",
        "  print(f'The number you gave input is {n}')\n",
        "  if 0<=n:\n",
        "    a=False\n",
        "    m=float(input('Enter a positive number: '))"
      ],
      "metadata": {
        "colab": {
          "base_uri": "https://localhost:8080/"
        },
        "id": "2Xnyu0lKQT6J",
        "outputId": "74a17990-919a-453f-a3a3-8553d29cab3a"
      },
      "execution_count": null,
      "outputs": [
        {
          "name": "stdout",
          "output_type": "stream",
          "text": [
            "Enter a number: -3\n",
            "The number you gave input is -3.0\n",
            "Enter a number: -7\n",
            "The number you gave input is -7.0\n",
            "Enter a number: 2\n",
            "The number you gave input is 2.0\n",
            "Enter a positive number: 5\n"
          ]
        }
      ]
    },
    {
      "cell_type": "code",
      "source": [
        "#Question 9\n",
        "#Get an input of positive or negative integer until zero is given.Terminate the program when the input is zero. Find the minimum,maximum and average of all numbers fed as input (Use for loop and break statement).\n",
        "list=[]\n",
        "for i in range(20000000):\n",
        "  n=int(input('Enter an integer: '))\n",
        "  list.append(n)\n",
        "  if n==0:\n",
        "    break\n",
        "l=len(list)\n",
        "sum=0\n",
        "for i in range(l):\n",
        "  sum=sum+list[i]\n",
        "print('Minimum of all numbers fed as input is: ',min(list))\n",
        "print(f'Maximum of all numbers fed as input is:{max(list)} ')\n",
        "print('Average of all numbers fed as input is: ',sum/l)\n",
        "\n"
      ],
      "metadata": {
        "colab": {
          "base_uri": "https://localhost:8080/"
        },
        "id": "b6ucSIWfUKG2",
        "outputId": "2efd00a0-4ffe-4775-fbda-c321da26dc1e"
      },
      "execution_count": null,
      "outputs": [
        {
          "output_type": "stream",
          "name": "stdout",
          "text": [
            "Enter an integer: 2\n",
            "Enter an integer: 5\n",
            "Enter an integer: -7\n",
            "Enter an integer: 9\n",
            "Enter an integer: 11\n",
            "Enter an integer: -5\n",
            "Enter an integer: 4\n",
            "Enter an integer: 7\n",
            "Enter an integer: 0\n",
            "Minimum of all numbers fed as input is:  -7\n",
            "Maximum of all numbers fed as input is:11 \n",
            "Average of all numbers fed as input is:  2.888888888888889\n"
          ]
        }
      ]
    },
    {
      "cell_type": "code",
      "source": [
        "#Question 10\n",
        "#Calculate the factorial of a non-negative integer.\n",
        "n=int(input('Enter the non-negetive integer you want to find factorial: '))\n",
        "fact=1\n",
        "for i in range(1,n+1):\n",
        "  fact=fact*i\n",
        "print('The factorial value of your provided non-negetive integer is: {}'.format(fact))"
      ],
      "metadata": {
        "colab": {
          "base_uri": "https://localhost:8080/"
        },
        "id": "8TeLreWfOBRb",
        "outputId": "aab465e4-0c0e-4c90-b2ab-44d4cff1cd40"
      },
      "execution_count": null,
      "outputs": [
        {
          "output_type": "stream",
          "name": "stdout",
          "text": [
            "Enter the non-negetive integer you want to find factorial: 5\n",
            "The factorial value of your provided non-negetive integer is: 120\n"
          ]
        }
      ]
    }
  ]
}